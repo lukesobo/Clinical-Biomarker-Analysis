{
 "cells": [
  {
   "cell_type": "code",
   "execution_count": null,
   "id": "ce049eb5-6efc-493a-9671-ef3abd4ff579",
   "metadata": {
    "tags": []
   },
   "outputs": [],
   "source": [
    "import pandas as pd\n",
    "import matplotlib.pyplot as plt\n",
    "import numpy as np\n",
    "from scipy.stats.mstats import gmean\n",
    "\n",
    "phage_titers = pd.read_csv(\"~/workspace/06DEC23_clinical_analysis/phage_titer_table.tsv\", delimiter='\\t')\n",
    "\n",
    "phage_titers = phage_titers[phage_titers.sample_type == 'urine']\n",
    "\n",
    "#take max titer of the three strains\n",
    "def max_titer(row):\n",
    "    if (row[\"b3383\"] >= row[\"b3384\"]) & (row[\"b3383\"] >= row[\"b3830\"]):\n",
    "        return row[\"b3383\"]\n",
    "    elif row[\"b3384\"] >= row[\"b3830\"]:\n",
    "        return row[\"b3384\"]\n",
    "    else:\n",
    "        return row[\"b3830\"]\n",
    "    \n",
    "phage_titers[\"PFU/mL\"] = phage_titers.apply(max_titer, axis=1)\n",
    "\n",
    "phage_titers.drop(columns = ['visit',\"b3383\", \"b3384\", \"b3830\"], inplace=True)\n",
    "phage_titers = phage_titers[phage_titers.day <=3]\n",
    "\n",
    "phage_titers[phage_titers[\"time_point\"] == 0][\"PFU/mL\"].median\n",
    "\n",
    "print(pre_dose_titers)\n",
    "\n",
    "# pre_dose_titers.to_csv(\"pre_dose_titers.csv\", index = False)"
   ]
  }
 ],
 "metadata": {
  "kernelspec": {
   "display_name": "saturn (Python 3)",
   "language": "python",
   "name": "python3"
  },
  "language_info": {
   "codemirror_mode": {
    "name": "ipython",
    "version": 3
   },
   "file_extension": ".py",
   "mimetype": "text/x-python",
   "name": "python",
   "nbconvert_exporter": "python",
   "pygments_lexer": "ipython3",
   "version": "3.9.17"
  }
 },
 "nbformat": 4,
 "nbformat_minor": 5
}
